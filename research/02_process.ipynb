{
 "cells": [
  {
   "cell_type": "code",
   "execution_count": 1,
   "metadata": {},
   "outputs": [],
   "source": [
    "import os"
   ]
  },
  {
   "cell_type": "code",
   "execution_count": 2,
   "metadata": {},
   "outputs": [],
   "source": [
    "os.chdir(\"../\")"
   ]
  },
  {
   "cell_type": "code",
   "execution_count": 3,
   "metadata": {},
   "outputs": [
    {
     "data": {
      "text/plain": [
       "True"
      ]
     },
     "execution_count": 3,
     "metadata": {},
     "output_type": "execute_result"
    }
   ],
   "source": [
    "import os\n",
    "import dotenv\n",
    "dotenv.load_dotenv()"
   ]
  },
  {
   "cell_type": "code",
   "execution_count": 4,
   "metadata": {},
   "outputs": [],
   "source": [
    "from pydantic import BaseModel\n",
    "from pathlib import Path\n",
    "\n",
    "class ProcessConfig(BaseModel):\n",
    "    connection_string: str\n",
    "    table_name: str\n",
    "    container_name: str\n",
    "\n",
    "    class Config:\n",
    "        frozen = True  # To make the model immutable like the frozen dataclass\n"
   ]
  },
  {
   "cell_type": "code",
   "execution_count": 5,
   "metadata": {},
   "outputs": [],
   "source": [
    "from Ingest.constants import *\n",
    "from Ingest.utils.common import read_yaml, read_table_to_dataframe, upload_dataframe_to_blob"
   ]
  },
  {
   "cell_type": "code",
   "execution_count": 6,
   "metadata": {},
   "outputs": [],
   "source": [
    "class ConfigurationManager:\n",
    "    def __init__(\n",
    "        self,\n",
    "        params_filepath = PARAMS_FILE_PATH):\n",
    "\n",
    "        self.params = read_yaml(params_filepath)\n",
    "\n",
    "\n",
    "    \n",
    "    def get_process_config(self) -> ProcessConfig:\n",
    "\n",
    "        config = self.params\n",
    "\n",
    "\n",
    "        process_config = ProcessConfig(\n",
    "\n",
    "            table_name=config.table_name,\n",
    "\n",
    "            connection_string=os.getenv('CONNECTION_STRING'),\n",
    "            \n",
    "            container_name=config.container_name\n",
    "        )\n",
    "\n",
    "        return process_config"
   ]
  },
  {
   "cell_type": "code",
   "execution_count": 7,
   "metadata": {},
   "outputs": [],
   "source": [
    "class Process:\n",
    "    def __init__(self, config: ProcessConfig):\n",
    "        self.config = config\n",
    "    \n",
    "\n",
    "    def start_process(self):\n",
    "        df = read_table_to_dataframe(self.config.connection_string, self.config.table_name)\n",
    "        upload_dataframe_to_blob(df, self.config.container_name, 'test.csv', self.config.connection_string)"
   ]
  },
  {
   "cell_type": "code",
   "execution_count": 8,
   "metadata": {},
   "outputs": [
    {
     "name": "stdout",
     "output_type": "stream",
     "text": [
      "[2024-08-20 17:44:23,684: INFO: common: yaml file: params.yaml loaded successfully]\n",
      "[2024-08-20 17:44:23,687: INFO: _universal: Request URL: 'https://csm1klagsto902.table.core.windows.net/testyahoo()'\n",
      "Request method: 'GET'\n",
      "Request headers:\n",
      "    'x-ms-version': 'REDACTED'\n",
      "    'DataServiceVersion': 'REDACTED'\n",
      "    'Accept': 'application/json;odata=minimalmetadata'\n",
      "    'x-ms-client-request-id': '12d302dc-5f0b-11ef-98e2-000d3abb4ec5'\n",
      "    'x-ms-date': 'REDACTED'\n",
      "    'Date': 'Tue, 20 Aug 2024 15:44:23 GMT'\n",
      "    'User-Agent': 'azsdk-python-data-tables/12.5.0 Python/3.9.16 (Windows-10-10.0.17763-SP0)'\n",
      "    'Authorization': 'REDACTED'\n",
      "No body was attached to the request]\n",
      "[2024-08-20 17:44:23,892: INFO: _universal: Response status: 200\n",
      "Response headers:\n",
      "    'Cache-Control': 'no-cache'\n",
      "    'Transfer-Encoding': 'chunked'\n",
      "    'Content-Type': 'application/json;odata=minimalmetadata;streaming=true;charset=utf-8'\n",
      "    'Server': 'Windows-Azure-Table/1.0 Microsoft-HTTPAPI/2.0'\n",
      "    'x-ms-request-id': '502b2270-e002-00b0-1d17-f3f31b000000'\n",
      "    'x-ms-client-request-id': '12d302dc-5f0b-11ef-98e2-000d3abb4ec5'\n",
      "    'x-ms-version': 'REDACTED'\n",
      "    'X-Content-Type-Options': 'REDACTED'\n",
      "    'x-ms-continuation-NextPartitionKey': 'REDACTED'\n",
      "    'x-ms-continuation-NextRowKey': 'REDACTED'\n",
      "    'Date': 'Tue, 20 Aug 2024 15:44:23 GMT']\n",
      "[2024-08-20 17:44:24,048: INFO: _universal: Request URL: 'https://csm1klagsto902.table.core.windows.net/testyahoo()?NextPartitionKey=REDACTED&NextRowKey=REDACTED'\n",
      "Request method: 'GET'\n",
      "Request headers:\n",
      "    'x-ms-version': 'REDACTED'\n",
      "    'DataServiceVersion': 'REDACTED'\n",
      "    'Accept': 'application/json;odata=minimalmetadata'\n",
      "    'x-ms-client-request-id': '1309e9ee-5f0b-11ef-8996-000d3abb4ec5'\n",
      "    'x-ms-date': 'REDACTED'\n",
      "    'Date': 'Tue, 20 Aug 2024 15:44:24 GMT'\n",
      "    'User-Agent': 'azsdk-python-data-tables/12.5.0 Python/3.9.16 (Windows-10-10.0.17763-SP0)'\n",
      "    'Authorization': 'REDACTED'\n",
      "No body was attached to the request]\n",
      "[2024-08-20 17:44:24,072: INFO: _universal: Response status: 200\n",
      "Response headers:\n",
      "    'Cache-Control': 'no-cache'\n",
      "    'Transfer-Encoding': 'chunked'\n",
      "    'Content-Type': 'application/json;odata=minimalmetadata;streaming=true;charset=utf-8'\n",
      "    'Server': 'Windows-Azure-Table/1.0 Microsoft-HTTPAPI/2.0'\n",
      "    'x-ms-request-id': '502b2291-e002-00b0-3617-f3f31b000000'\n",
      "    'x-ms-client-request-id': '1309e9ee-5f0b-11ef-8996-000d3abb4ec5'\n",
      "    'x-ms-version': 'REDACTED'\n",
      "    'X-Content-Type-Options': 'REDACTED'\n",
      "    'Date': 'Tue, 20 Aug 2024 15:44:23 GMT']\n",
      "[2024-08-20 17:44:24,483: INFO: _universal: Request URL: 'https://csm1klagsto902.blob.core.windows.net/yahoodata?restype=REDACTED'\n",
      "Request method: 'PUT'\n",
      "Request headers:\n",
      "    'x-ms-version': 'REDACTED'\n",
      "    'Accept': 'application/xml'\n",
      "    'User-Agent': 'azsdk-python-storage-blob/12.22.0 Python/3.9.16 (Windows-10-10.0.17763-SP0)'\n",
      "    'x-ms-date': 'REDACTED'\n",
      "    'x-ms-client-request-id': '134c56a7-5f0b-11ef-a85b-000d3abb4ec5'\n",
      "    'Authorization': 'REDACTED'\n",
      "No body was attached to the request]\n",
      "[2024-08-20 17:44:24,590: INFO: _universal: Response status: 409\n",
      "Response headers:\n",
      "    'Content-Length': '230'\n",
      "    'Content-Type': 'application/xml'\n",
      "    'Server': 'Windows-Azure-Blob/1.0 Microsoft-HTTPAPI/2.0'\n",
      "    'x-ms-request-id': '7e86d298-901e-0013-5a17-f396de000000'\n",
      "    'x-ms-client-request-id': '134c56a7-5f0b-11ef-a85b-000d3abb4ec5'\n",
      "    'x-ms-version': 'REDACTED'\n",
      "    'x-ms-error-code': 'ContainerAlreadyExists'\n",
      "    'Date': 'Tue, 20 Aug 2024 15:44:24 GMT']\n",
      "Container may already exist: The specified container already exists.\n",
      "RequestId:7e86d298-901e-0013-5a17-f396de000000\n",
      "Time:2024-08-20T15:44:24.5781771Z\n",
      "ErrorCode:ContainerAlreadyExists\n",
      "Content: <?xml version=\"1.0\" encoding=\"utf-8\"?><Error><Code>ContainerAlreadyExists</Code><Message>The specified container already exists.\n",
      "RequestId:7e86d298-901e-0013-5a17-f396de000000\n",
      "Time:2024-08-20T15:44:24.5781771Z</Message></Error>\n",
      "[2024-08-20 17:44:24,592: INFO: _universal: Request URL: 'https://csm1klagsto902.blob.core.windows.net/yahoodata/test.csv'\n",
      "Request method: 'PUT'\n",
      "Request headers:\n",
      "    'Content-Length': '98402'\n",
      "    'x-ms-blob-type': 'REDACTED'\n",
      "    'x-ms-version': 'REDACTED'\n",
      "    'Content-Type': 'application/octet-stream'\n",
      "    'Accept': 'application/xml'\n",
      "    'User-Agent': 'azsdk-python-storage-blob/12.22.0 Python/3.9.16 (Windows-10-10.0.17763-SP0)'\n",
      "    'x-ms-date': 'REDACTED'\n",
      "    'x-ms-client-request-id': '135d2a94-5f0b-11ef-a55b-000d3abb4ec5'\n",
      "    'Authorization': 'REDACTED'\n",
      "A body is sent with the request]\n",
      "[2024-08-20 17:44:24,638: INFO: _universal: Response status: 201\n",
      "Response headers:\n",
      "    'Content-Length': '0'\n",
      "    'Content-MD5': 'REDACTED'\n",
      "    'Last-Modified': 'Tue, 20 Aug 2024 15:44:24 GMT'\n",
      "    'ETag': '\"0x8DCC12EF795E105\"'\n",
      "    'Server': 'Windows-Azure-Blob/1.0 Microsoft-HTTPAPI/2.0'\n",
      "    'x-ms-request-id': '7e86d2a3-901e-0013-6317-f396de000000'\n",
      "    'x-ms-client-request-id': '135d2a94-5f0b-11ef-a55b-000d3abb4ec5'\n",
      "    'x-ms-version': 'REDACTED'\n",
      "    'x-ms-content-crc64': 'REDACTED'\n",
      "    'x-ms-request-server-encrypted': 'REDACTED'\n",
      "    'Date': 'Tue, 20 Aug 2024 15:44:24 GMT']\n",
      "File test.csv uploaded to container yahoodata successfully.\n"
     ]
    }
   ],
   "source": [
    "config = ConfigurationManager()\n",
    "process_config = config.get_process_config()\n",
    "processing = Process(config=process_config)\n",
    "process_data = processing.start_process()"
   ]
  },
  {
   "cell_type": "code",
   "execution_count": null,
   "metadata": {},
   "outputs": [],
   "source": []
  }
 ],
 "metadata": {
  "kernelspec": {
   "display_name": "venv",
   "language": "python",
   "name": "python3"
  },
  "language_info": {
   "codemirror_mode": {
    "name": "ipython",
    "version": 3
   },
   "file_extension": ".py",
   "mimetype": "text/x-python",
   "name": "python",
   "nbconvert_exporter": "python",
   "pygments_lexer": "ipython3",
   "version": "3.9.16"
  }
 },
 "nbformat": 4,
 "nbformat_minor": 2
}
